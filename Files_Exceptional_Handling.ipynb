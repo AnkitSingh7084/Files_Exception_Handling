{
  "nbformat": 4,
  "nbformat_minor": 0,
  "metadata": {
    "colab": {
      "provenance": []
    },
    "kernelspec": {
      "name": "python3",
      "display_name": "Python 3"
    },
    "language_info": {
      "name": "python"
    }
  },
  "cells": [
    {
      "cell_type": "markdown",
      "source": [
        "# **THEORETICAL QUESTIONS**"
      ],
      "metadata": {
        "id": "14juu7FvgsK6"
      }
    },
    {
      "cell_type": "markdown",
      "source": [
        "##Q.1 What is the difference between interpreted and compiled languages ?\n",
        "  - > **COMPILED LANGUAGE**\n",
        "    - > The code is translated (compiled) into machine code (binary) before execution.\n",
        "    - >This translation is done by a compiler.\n",
        "    - >Once compiled, the program runs directly on the computer’s hardware.\n",
        "    - > Source Code **→**  Compiler **→** Machine Code **→** Execution\n",
        "  - > **INTERPRETED LANGUAGE**\n",
        "    - > Code is executed line-by-line by an interpreter, without prior compilation.\n",
        "    - >The interpreter reads and executes the code at runtime.\n",
        "    - > Source Code **→** Interpreter **→** Execution\n"
      ],
      "metadata": {
        "id": "KENt8cadgtzb"
      }
    },
    {
      "cell_type": "markdown",
      "source": [
        "##Q.2 What is exception handling in Python ?\n",
        "  - > It is a way to **manage errors** that occur while a program is running — without stopping the entire program.\n",
        "  - > It allows your code to **“handle”** unexpected situations.\n",
        "  - > We can handle that error using a **try-except block**."
      ],
      "metadata": {
        "id": "VUTMpkSch_E0"
      }
    },
    {
      "cell_type": "markdown",
      "source": [
        "##Q.3 What is the purpose of the finally block in exception handling ?\n",
        "  - > The **finally block** is used in exception handling to define a section of code that always executes, **whether an exception occurs or not.**\n",
        "  - > **Purpose of the finally block:**\n",
        "    - > Closing files or network connections\n",
        "    - > Ensuring certain code runs no matter what"
      ],
      "metadata": {
        "id": "YFTO2Q6-isdz"
      }
    },
    {
      "cell_type": "markdown",
      "source": [
        "##Q.4 What is logging in Python ?\n",
        "  - > In Python, **logging** is a **built-in module** used to record messages about what’s happening in your program while it runs.\n",
        "  - > It’s mainly used for **debugging**, **tracking errors**, and **monitoring program flow** — especially in large applications.\n",
        "  "
      ],
      "metadata": {
        "id": "G_UA5HV6ko17"
      }
    },
    {
      "cell_type": "markdown",
      "source": [
        "##Q.5 What is the significance of the **__ del __** method in Python ?\n",
        "  - > In Python, the **__ del __** method is a **destructor** — a special method that is called automatically when an object is about to be destroyed.\n",
        "  - > The **__ del __** method allows you to define cleanup actions that should happen when an object is deleted **—** such as **closing files**, **releasing resources**, or **saving final data**."
      ],
      "metadata": {
        "id": "SM9eUvjSlQ4e"
      }
    },
    {
      "cell_type": "markdown",
      "source": [
        "##Q.6 What is the difference between import and from ... import in Python ?\n",
        "  - > In Python, both **import** and **from ... import** are used to bring code ( modules, functions, classes, or variables ) from other files or libraries into your program — but they work a bit differently.\n",
        "  - > **Import statement**\n",
        "    - > Imports the entire module.\n",
        "    - > We need to use the module name to access its contents.\n",
        "  - > **from ... import statement**\n",
        "    - > Imports specific items ( like **functions**, **classes**, or **variables** ) from a module.\n",
        "    - > You can use them directly without prefixing the module name."
      ],
      "metadata": {
        "id": "Cpi55f1Sl__c"
      }
    },
    {
      "cell_type": "markdown",
      "source": [
        "##Q.7 How can you handle multiple exceptions in Python ?\n",
        "  - > In Python, We can **handle multiple exceptions** in several ways-\n",
        "  - > **Using multiple except blocks**\n",
        "    - > We can write separate except blocks for different exception types.\n",
        "  - > **Handling multiple exceptions in a single block**\n",
        "    - > If We want the same action for multiple exceptions, we can group them using a tuple."
      ],
      "metadata": {
        "id": "smKFUPyBnZia"
      }
    },
    {
      "cell_type": "markdown",
      "source": [
        "##Q.8 What is the purpose of the with statement when handling files in Python ?\n",
        "  - > In Python, the **with statement** is used when working with files (and other resources) to automatically manage setup and cleanup tasks — **closing the file once you’re done with it.**\n",
        "  - > When we are using **(with)**-\n",
        "    - > It Opens the file.\n",
        "    - > Lets us work with it inside the block.\n",
        "    - > Closes the file automatically when the block ends — even if an error happens."
      ],
      "metadata": {
        "id": "LA6PjLENoz5u"
      }
    },
    {
      "cell_type": "markdown",
      "source": [
        "##Q.9 What is the difference between multithreading and multiprocessing ?\n",
        "  - > **Multithreading**\n",
        "    - > Multithreading means running multiple threads (smaller units of a process) within the same process. All threads share the same memory space.\n",
        "  - > **Multiprocessing**\n",
        "    - > Multiprocessing means running multiple processes, each with its own Python interpreter and memory space."
      ],
      "metadata": {
        "id": "LTVSu4qwpxNq"
      }
    },
    {
      "cell_type": "markdown",
      "source": [
        "##Q.10 What are the advantages of using logging in a program ?\n",
        "  - > Using **logging** in a program provides several advantages over using simple print() statements for debugging or monitoring.\n",
        "    - > **Better Debugging and Monitoring**\n",
        "    - > **Multiple Severity Levels**\n",
        "    - > **Persistent Record**\n",
        "    - > **Configurable Output**\n",
        "    - > **Conditional and Flexible**"
      ],
      "metadata": {
        "id": "YK9629r3rOsK"
      }
    },
    {
      "cell_type": "markdown",
      "source": [
        "##Q.11 What is memory management in Python ?\n",
        "  - > **Memory management** refers to the process of **allocating and deallocating memory** to store objects, variables, and data structures efficiently while a program is running."
      ],
      "metadata": {
        "id": "GO8m3qYFtoa2"
      }
    },
    {
      "cell_type": "markdown",
      "source": [
        "##Q.12 What are the basic steps involved in exception handling in Python ?\n",
        "  - > **Basic steps involved in exception handling are :**\n",
        "    - > **Try Block** - ( Here we place the code that might raise an exception )\n",
        "    - > **Except Block -** ( The except block handles the exception that was raised in the try block )\n",
        "    - > **Else Block -** ( It is optional ) , ( The else block runs only if no exception occurs in the try block )\n",
        "    - > **Finally Block -** ( The finally block executes no matter what happens — whether an exception occurs or not )"
      ],
      "metadata": {
        "id": "gosQhu2BuI0t"
      }
    },
    {
      "cell_type": "markdown",
      "source": [
        "##Q.13 Why is memory management important in Python ?\n",
        "  - > It is important because it ensures that the program uses system memory efficiently.\n",
        "  - > Prevents unnecessary memory use.\n",
        "  - > Reduces risk of crashes or leaks.\n",
        "  - > Improves program speed.\n"
      ],
      "metadata": {
        "id": "mRhX9oFo7qjX"
      }
    },
    {
      "cell_type": "markdown",
      "source": [
        "##Q.14 What is the role of try and except in exception handling ?\n",
        "  - > **Try Block** - ( Here we place the code that might raise an exception ).\n",
        "  - > **Except Block -** ( The except block handles the exception that was raised in the try block )"
      ],
      "metadata": {
        "id": "OTF9ICE-9VhY"
      }
    },
    {
      "cell_type": "markdown",
      "source": [
        "##Q.15 How does Python's garbage collection system work ?\n",
        "  - > It is responsible for **automatically managing memory** , freeing up space used by objects that are no longer needed.\n",
        "  - > It helps **prevent memory leaks** and ensures efficient use of memory."
      ],
      "metadata": {
        "id": "1vs4V_IqGaN4"
      }
    },
    {
      "cell_type": "markdown",
      "source": [
        "##Q.16 What is the purpose of the else block in exception handling ?\n",
        "  - > **Else Block -**\n",
        "    - > It is optional.\n",
        "    - > The else block runs only if no exception occurs in the try block."
      ],
      "metadata": {
        "id": "EvbJkgPtM9Ep"
      }
    },
    {
      "cell_type": "markdown",
      "source": [
        "##Q.17 What are the common logging levels in Python ?\n",
        "  - > In Python’s **logging** module, logging levels represent the importance of a log message. Each level helps us filter what kinds of events get recorded.\n",
        "  - > **following levels are:-**\n",
        "    - >DEBUG\n",
        "    - >INFO\n",
        "    - >WARNING\n",
        "    - >ERROR\n",
        "    - >CRITICAL"
      ],
      "metadata": {
        "id": "PPLJQU5kNUeS"
      }
    },
    {
      "cell_type": "markdown",
      "source": [
        "##Q.18 What is the difference between os.fork() and multiprocessing in Pytho ?\n",
        "  - > **os.fork()**\n",
        "    - > It is a **low-level system call** that creates a new process (child) by duplicating the current one (parent).\n",
        "    - > It Works only on Unix-like systems.\n",
        "  - > **multiprocessing**\n",
        "    - > It is a high-level Python module that provides an easier and cross-platform way to create and manage processes.\n",
        "    - > It creates new processes using system-specific methods **(like fork() on Unix or spawn() on Windows)** — but hides the complexity from us."
      ],
      "metadata": {
        "id": "qswY6n8wOBcR"
      }
    },
    {
      "cell_type": "markdown",
      "source": [
        "## Q.19 What is the importance of closing a file in Python ?\n",
        "  - > **Closing a file** in Python is very important for **ensuring proper resource management and data integrity**.\n",
        "  - > **Importance:-**\n",
        "    - > Releases System Resources.\n",
        "    - > Ensures Data Is Written.\n",
        "    - > Prevents File Corruption.\n",
        "    - > Allows Other Programs to Access the File."
      ],
      "metadata": {
        "id": "KyjStuujPcYn"
      }
    },
    {
      "cell_type": "markdown",
      "source": [
        "## Q.20 What is the difference between file.read() and file.readline() in Python ?\n",
        "  - > **file.read()**\n",
        "     - > Reads the entire file as one string.\n",
        "     - > It does not stop at line breaks — it reads everything until the end.\n",
        "  - > **file.readline()**\n",
        "     - >Reads one line at a time — until it reaches a newline character (\\n).\n",
        "     - >Useful when you want to process a file line by line without loading the entire file into memory."
      ],
      "metadata": {
        "id": "7jyPKF3bRMAd"
      }
    },
    {
      "cell_type": "markdown",
      "source": [
        "## Q.21 What is the logging module in Python used for ?\n",
        "  - > The **logging module** in Python is used to track events that happen when a program runs.\n",
        "  - >It allows us to record messages about the program’s execution — such as **errors**, **warnings**, or **general information**.\n",
        "  - > It helps in **debugging**, **monitoring**, and **understanding the program’s behavior**."
      ],
      "metadata": {
        "id": "wLvpM2jqR2fM"
      }
    },
    {
      "cell_type": "markdown",
      "source": [
        "## Q.22  What is the os module in Python used for in file handling ?\n",
        "  - > The **os module** in Python provides functions to interact with the operating system, especially for **file and directory handling.**\n",
        "  - > It allows our Python program to **create, remove, rename, and navigate** through files and folders, as well as access environment variables and system information."
      ],
      "metadata": {
        "id": "SjVluEQQS3Gm"
      }
    },
    {
      "cell_type": "markdown",
      "source": [
        "## Q.23 What are the challenges associated with memory management in Python ?\n",
        "  - > **Key Challenges in Python Memory Management:-**\n",
        "    - > Reference Cycles\n",
        "    - > Large Objects and Data Structures\n",
        "    - > Unreleased Resources\n",
        "    - > Garbage Collection Overhead\n",
        "    - > High Memory Usage for Small Tasks"
      ],
      "metadata": {
        "id": "f-UkB4jHT1Qb"
      }
    },
    {
      "cell_type": "markdown",
      "source": [
        "## Q.24 How do you raise an exception manually in Python ?\n",
        "  - > We can raise an exception manually using the **raise** statement. This is useful when you want to signal that an error has occurred under certain conditions.\n",
        "  - > **Different methods to use:-**\n",
        "    - > Raising a built-in exception.\n",
        "    - > Raising a custom exception.\n",
        "    - > Re-raising an exception."
      ],
      "metadata": {
        "id": "20tK_DOGUras"
      }
    },
    {
      "cell_type": "markdown",
      "source": [
        "## Q.25 Why is it important to use multithreading in certain applications ?\n",
        "  - > It is important because it allows a program to **perform multiple tasks concurrently**, improving responsiveness, efficiency, and resource utilization.\n",
        "  - > **Importance:-**\n",
        "    - > Improves performance for I/O-bound tasks.\n",
        "    - > Enables concurrency and responsiveness.\n",
        "    - > Parallelism for certain CPU-bound tasks."
      ],
      "metadata": {
        "id": "wSGGL70qWCCd"
      }
    },
    {
      "cell_type": "markdown",
      "source": [
        "# **CODING QUESTIONS**"
      ],
      "metadata": {
        "id": "hTp3tuvCW-LI"
      }
    },
    {
      "cell_type": "markdown",
      "source": [
        "## Q.1 How can you open a file for writing in Python and write a string to it ?\n"
      ],
      "metadata": {
        "id": "1R6B_9hVXBnp"
      }
    },
    {
      "cell_type": "code",
      "source": [
        "file = open(\"example.txt\" , \"w\")\n",
        "\n",
        "file.write(\"This is me writing in the file\")\n",
        "\n",
        "file.close()"
      ],
      "metadata": {
        "id": "R5qp1waPZCag"
      },
      "execution_count": 2,
      "outputs": []
    },
    {
      "cell_type": "markdown",
      "source": [
        "## Q.2 Write a Python program to read the contents of a file and print each line ?"
      ],
      "metadata": {
        "id": "vakOcwFTa5_P"
      }
    },
    {
      "cell_type": "code",
      "source": [
        "\n",
        "with open(\"example.txt\", \"r\") as file:\n",
        "\n",
        "    for line in file:\n",
        "\n",
        "        print(line.strip())\n"
      ],
      "metadata": {
        "id": "ZjLNJSruegYf"
      },
      "execution_count": null,
      "outputs": []
    },
    {
      "cell_type": "markdown",
      "source": [
        "## Q.3 How would you handle a case where the file doesn't exist while trying to open it for reading ?"
      ],
      "metadata": {
        "id": "VIiI1g_Jfprk"
      }
    },
    {
      "cell_type": "code",
      "source": [
        "try:\n",
        "    with open(\"example.txt\", \"r\") as file:\n",
        "        for line in file:\n",
        "            print(line.strip())\n",
        "except FileNotFoundError:\n",
        "    print(\"Error: The file does not exist.\")\n"
      ],
      "metadata": {
        "id": "nf1zRBNugKdN"
      },
      "execution_count": null,
      "outputs": []
    },
    {
      "cell_type": "markdown",
      "source": [
        "## Q.4 Write a Python script that reads from one file and writes its content to another file."
      ],
      "metadata": {
        "id": "fQebCx8Egc7g"
      }
    },
    {
      "cell_type": "code",
      "source": [
        "source_file = \"source.txt\"\n",
        "\n",
        "destination_file = \"destination.txt\"\n",
        "\n",
        "try:\n",
        "\n",
        "  with open(source_file , 'r') as source:\n",
        "\n",
        "    with open(destination_file , 'w') as destination:\n",
        "\n",
        "      for line in source:\n",
        "\n",
        "        destination.write(line)\n",
        "\n",
        "  print(f\"Contents of '{source_file}' have been copied to '{destination_file}'.\")\n",
        "\n",
        "except FileNotFoundError:\n",
        "\n",
        "    print(f\"Error: The file '{source_file}' does not exist.\")"
      ],
      "metadata": {
        "id": "BHQItjYgghzk"
      },
      "execution_count": null,
      "outputs": []
    },
    {
      "cell_type": "markdown",
      "source": [
        "## Q.5 How would you catch and handle division by zero error in Pytho ?"
      ],
      "metadata": {
        "id": "lblWJsaPnhL5"
      }
    },
    {
      "cell_type": "code",
      "source": [
        "try:\n",
        "\n",
        "    numerator = 10\n",
        "\n",
        "    denominator = 0\n",
        "\n",
        "    result = numerator / denominator\n",
        "\n",
        "    print(\"Result:\", result)\n",
        "\n",
        "except ZeroDivisionError:\n",
        "\n",
        "    print(\"Error: Cannot divide by zero.\")\n"
      ],
      "metadata": {
        "id": "DWazJQbopWNh"
      },
      "execution_count": null,
      "outputs": []
    },
    {
      "cell_type": "markdown",
      "source": [
        "## Q.6 Write a Python program that logs an error message to a log file when a division by zero exception occurs.\n"
      ],
      "metadata": {
        "id": "bmO9UFazpyE_"
      }
    },
    {
      "cell_type": "code",
      "source": [
        "import logging\n",
        "\n",
        "logging.basicConfig(\n",
        "    filename = \"error.log\" ,\n",
        "    level= logging.ERROR ,\n",
        "    format=\"%(asctime)s - %(levelname)s - %(message)s\"\n",
        "    )\n",
        "try:\n",
        "\n",
        "    numerator = 10\n",
        "    denominator = 0\n",
        "    result = numerator / denominator\n",
        "\n",
        "except ZeroDivisionError as e:\n",
        "\n",
        "    logging.error(\"Division by zero occurred: %s\", e)\n",
        "\n",
        "    print(\"An error occurred. Check 'error.log' for details.\")"
      ],
      "metadata": {
        "id": "r80LyRe6qcoh"
      },
      "execution_count": null,
      "outputs": []
    },
    {
      "cell_type": "markdown",
      "source": [
        "## Q.7 How do you log information at different levels (INFO, ERROR, WARNING) in Python using the logging module ?"
      ],
      "metadata": {
        "id": "uQOI3QhqteXz"
      }
    },
    {
      "cell_type": "code",
      "source": [
        "import logging\n",
        "\n",
        "logging.basicConfig(\n",
        "    filename=\"app.log\",\n",
        "    level=logging.INFO,\n",
        "    format=\"%(asctime)s - %(levelname)s - %(message)s\"\n",
        ")\n",
        "\n",
        "logging.info(\"This is an info message\")\n",
        "\n",
        "logging.debug(\"This is a debug message\")     # For debugging\n",
        "\n",
        "logging.warning(\"This is a warning message\") # Warning\n",
        "\n",
        "logging.error(\"This is an error message\")    # Error\n",
        "\n",
        "logging.critical(\"This is a critical message\") # Critical error\n"
      ],
      "metadata": {
        "id": "183SWUXTtkSi"
      },
      "execution_count": null,
      "outputs": []
    },
    {
      "cell_type": "markdown",
      "source": [
        "## Q.8 Write a program to handle a file opening error using exception handling."
      ],
      "metadata": {
        "id": "TLW67nezu9mA"
      }
    },
    {
      "cell_type": "code",
      "source": [
        "filename = \"File.txt\"\n",
        "\n",
        "try:\n",
        "\n",
        "    with open(filename, \"r\") as file:\n",
        "\n",
        "        content = file.read()\n",
        "\n",
        "        print(\"File content:\")\n",
        "\n",
        "        print(content)\n",
        "\n",
        "except FileNotFoundError:\n",
        "\n",
        "    print(f\"Error: The file '{filename}' was not found.\")\n",
        "\n",
        "except Exception as e:\n",
        "\n",
        "    print(f\"An unexpected error occurred: {e}\")\n"
      ],
      "metadata": {
        "id": "lUUQoPfk1QAw"
      },
      "execution_count": null,
      "outputs": []
    },
    {
      "cell_type": "markdown",
      "source": [
        "## Q.9 How can you read a file line by line and store its content in a list in Python ?\n"
      ],
      "metadata": {
        "id": "NC5qqPgq17nT"
      }
    },
    {
      "cell_type": "code",
      "source": [
        "lines = []\n",
        "\n",
        "with open(\"example.txt\", \"r\") as file:\n",
        "\n",
        "    for line in file:\n",
        "\n",
        "        lines.append(line.strip())\n",
        "\n",
        "print(lines)\n"
      ],
      "metadata": {
        "id": "O7WspTBX2AS9"
      },
      "execution_count": null,
      "outputs": []
    },
    {
      "cell_type": "markdown",
      "source": [
        "## Q.10 How can you append data to an existing file in Python ?"
      ],
      "metadata": {
        "id": "B0XRMVh_2uj4"
      }
    },
    {
      "cell_type": "code",
      "source": [
        "with open(\"append.txt\", \"a\") as file: #Opening the file in append mode\n",
        "\n",
        "    file.write(\"This line will be added at the end.\\n\")\n",
        "\n",
        "    file.write(\"Another appended line.\\n\")"
      ],
      "metadata": {
        "id": "Yxij49cw2zH7"
      },
      "execution_count": 21,
      "outputs": []
    },
    {
      "cell_type": "markdown",
      "source": [
        "## Q.11 Write a Python program that uses a try-except block to handle an error when attempting to access a dictionary key that doesn't exist."
      ],
      "metadata": {
        "id": "RsS5U08-3Qjd"
      }
    },
    {
      "cell_type": "code",
      "source": [
        "my_dict = {\n",
        "    \"name\": \"Ankit\",\n",
        "    \"age\": 27,\n",
        "    \"city\": \"Kanpur\"\n",
        "}\n",
        "\n",
        "key_to_access = \"email\"\n",
        "\n",
        "try:\n",
        "\n",
        "    value = my_dict[key_to_access]\n",
        "\n",
        "    print(f\"The value for '{key_to_access}' is {value}.\")\n",
        "\n",
        "except KeyError:\n",
        "\n",
        "    print(f\"Error: The key '{key_to_access}' does not exist in the dictionary.\")\n"
      ],
      "metadata": {
        "colab": {
          "base_uri": "https://localhost:8080/"
        },
        "id": "xFzwe-E13VJt",
        "outputId": "4eae0546-d24a-4bf6-ea65-4612204b41b9"
      },
      "execution_count": 22,
      "outputs": [
        {
          "output_type": "stream",
          "name": "stdout",
          "text": [
            "Error: The key 'email' does not exist in the dictionary.\n"
          ]
        }
      ]
    },
    {
      "cell_type": "markdown",
      "source": [
        "## Q.12  Write a program that demonstrates using multiple except blocks to handle different types of exceptions.\n"
      ],
      "metadata": {
        "id": "ZgKKN1bz4G94"
      }
    },
    {
      "cell_type": "code",
      "source": [
        "try:\n",
        "\n",
        "    numerator = int(input(\"Enter numerator: \"))\n",
        "    denominator = int(input(\"Enter denominator: \"))\n",
        "\n",
        "\n",
        "    result = numerator / denominator\n",
        "    print(f\"Result: {result}\")\n",
        "\n",
        "\n",
        "    my_dict = {\"name\": \"Ankit\", \"age\": 27}\n",
        "    key = input(\"Enter key to access in dictionary: \")\n",
        "    print(f\"Value: {my_dict[key]}\")\n",
        "\n",
        "except ZeroDivisionError:\n",
        "\n",
        "    print(\"Error: Cannot divide by zero.\")\n",
        "\n",
        "except ValueError:\n",
        "\n",
        "    print(\"Error: Invalid input. Please enter a number.\")\n",
        "\n",
        "except KeyError as e:\n",
        "\n",
        "    print(f\"Error: The key '{e.args[0]}' does not exist in the dictionary.\")\n",
        "\n",
        "except Exception as e:\n",
        "\n",
        "    print(f\"An unexpected error occurred: {e}\")\n"
      ],
      "metadata": {
        "id": "LkN-iFmm4NJ2"
      },
      "execution_count": null,
      "outputs": []
    },
    {
      "cell_type": "markdown",
      "source": [
        "## Q.13 How would you check if a file exists before attempting to read it in Python ?"
      ],
      "metadata": {
        "id": "Oihjz7zN5aA6"
      }
    },
    {
      "cell_type": "code",
      "source": [
        "import os\n",
        "\n",
        "filename = \"example.txt\"\n",
        "\n",
        "if os.path.exists(filename):\n",
        "\n",
        "    with open(filename, \"r\") as file:\n",
        "        content = file.read()\n",
        "        print(content)\n",
        "else:\n",
        "\n",
        "    print(f\"Error: The file '{filename}' does not exist.\")\n"
      ],
      "metadata": {
        "id": "gdXzVwIb5fgP"
      },
      "execution_count": null,
      "outputs": []
    },
    {
      "cell_type": "markdown",
      "source": [
        "## Q.14 Write a program that uses the logging module to log both informational and error messages ."
      ],
      "metadata": {
        "id": "my_y6xdl7B3g"
      }
    },
    {
      "cell_type": "code",
      "source": [
        "import logging\n",
        "\n",
        "logging.basicConfig(\n",
        "    filename=\"app.log\",            # Log file name\n",
        "    level=logging.INFO,            # Minimum level to log\n",
        "    format=\"%(asctime)s - %(levelname)s - %(message)s\"\n",
        ")\n",
        "\n",
        "try:\n",
        "    logging.info(\"Program started.\")\n",
        "\n",
        "    numerator = 10\n",
        "    denominator = 0\n",
        "    logging.info(f\"Attempting to divide {numerator} by {denominator}.\")\n",
        "\n",
        "    result = numerator / denominator  # This will raise ZeroDivisionError\n",
        "    logging.info(f\"Division result: {result}\")\n",
        "\n",
        "except ZeroDivisionError as e:\n",
        "    logging.error(f\"Error occurred during division: {e}\")\n",
        "\n",
        "finally:\n",
        "    logging.info(\"Program finished.\")\n"
      ],
      "metadata": {
        "id": "_OkBhYkq7gDj"
      },
      "execution_count": null,
      "outputs": []
    },
    {
      "cell_type": "markdown",
      "source": [
        "### Q.15 Write a Python program that prints the content of a file and handles the case when the file is empty."
      ],
      "metadata": {
        "id": "KqPXXEV88XzK"
      }
    },
    {
      "cell_type": "code",
      "source": [
        "filename = \"example.txt\"\n",
        "\n",
        "try:\n",
        "\n",
        "  with open(filename , \"r\") as file:\n",
        "\n",
        "    content = file.read()\n",
        "\n",
        "    if content:\n",
        "\n",
        "      print(\"file content:\")\n",
        "      print(content)\n",
        "\n",
        "    else:\n",
        "\n",
        "      print(f\"The file '{filename}' is empty.\")\n",
        "\n",
        "except FileNotFoundError:\n",
        "\n",
        "    print(f\"Error: The file '{filename}' does not exist.\")\n",
        "\n",
        "except Exception as e:\n",
        "\n",
        "    print(f\"An unexpected error occurred: {e}\")"
      ],
      "metadata": {
        "colab": {
          "base_uri": "https://localhost:8080/"
        },
        "id": "ceLKJX9v8wLK",
        "outputId": "f2a1c5ce-c535-4209-ad41-56a3092a947d"
      },
      "execution_count": 25,
      "outputs": [
        {
          "output_type": "stream",
          "name": "stdout",
          "text": [
            "file content:\n",
            "This is me writing in the filethis is me ending the linesthis is me ending the linesthis is me ending the linesthis is me ending the lines\n"
          ]
        }
      ]
    },
    {
      "cell_type": "markdown",
      "source": [
        "## Q.16 Demonstrate how to use memory profiling to check the memory usage of a small program ."
      ],
      "metadata": {
        "id": "H4F_3GFT-B8B"
      }
    },
    {
      "cell_type": "code",
      "source": [
        "import psutil, os\n",
        "\n",
        "process = psutil.Process(os.getpid())\n",
        "print(f\"Memory before: {process.memory_info().rss / 1024 ** 2:.2f} MB\")\n",
        "\n",
        "# Your code\n",
        "data = [i for i in range(100000)]\n",
        "\n",
        "print(f\"Memory after: {process.memory_info().rss / 1024 ** 2:.2f} MB\")\n"
      ],
      "metadata": {
        "colab": {
          "base_uri": "https://localhost:8080/"
        },
        "id": "CsHAoavxDCHX",
        "outputId": "20200421-10cb-4866-86d9-f3fa40412324"
      },
      "execution_count": 35,
      "outputs": [
        {
          "output_type": "stream",
          "name": "stdout",
          "text": [
            "Memory before: 187.00 MB\n",
            "Memory after: 187.00 MB\n"
          ]
        }
      ]
    },
    {
      "cell_type": "markdown",
      "source": [
        "## Q.17 Write a Python program to create and write a list of numbers to a file, one number per line."
      ],
      "metadata": {
        "id": "mJNHI9WStTFQ"
      }
    },
    {
      "cell_type": "code",
      "source": [
        "numbers = [10, 20, 30, 40, 50]\n",
        "\n",
        "with open(\"numbers.txt\", \"w\") as file:\n",
        "\n",
        "    for num in numbers:\n",
        "        file.write(f\"{num}\\n\")\n",
        "\n",
        "print(\"Numbers have been written to 'numbers.txt' successfully.\")\n"
      ],
      "metadata": {
        "id": "nipBj1fatYSp"
      },
      "execution_count": null,
      "outputs": []
    },
    {
      "cell_type": "markdown",
      "source": [
        "## Q.18 How would you implement a basic logging setup that logs to a file with rotation after 1MB ?"
      ],
      "metadata": {
        "id": "4mSL_I1dtyiF"
      }
    },
    {
      "cell_type": "code",
      "source": [
        "import logging\n",
        "\n",
        "from logging.handlers import RotatingFileHandler\n",
        "\n",
        "logger = logging.getLogger(\"MyLogger\")\n",
        "logger.setLevel(logging.INFO)  # Set minimum log level\n",
        "\n",
        "handler = RotatingFileHandler(\n",
        "    \"app.log\", maxBytes=1_000_000, backupCount=3\n",
        ")\n",
        "\n",
        "formatter = logging.Formatter(\"%(asctime)s - %(levelname)s - %(message)s\")\n",
        "handler.setFormatter(formatter)\n",
        "\n",
        "logger.addHandler(handler)\n",
        "\n",
        "for i in range(10000):\n",
        "\n",
        "    logger.info(f\"Logging message number {i}\")\n"
      ],
      "metadata": {
        "id": "RJsmWB9ct4Il"
      },
      "execution_count": null,
      "outputs": []
    },
    {
      "cell_type": "markdown",
      "source": [
        "## Q.19 Write a program that handles both IndexError and KeyError using a try-except block ."
      ],
      "metadata": {
        "id": "N9-Sk3DYuZvE"
      }
    },
    {
      "cell_type": "code",
      "source": [
        "try:\n",
        "\n",
        "    my_list = [10, 20, 30]\n",
        "    my_dict = {\"name\": \"Ankit\", \"age\": 27}\n",
        "\n",
        "\n",
        "    print(\"Accessing 5th element in list:\", my_list[4])\n",
        "\n",
        "\n",
        "    print(\"Accessing 'city' key in dictionary:\", my_dict[\"city\"])\n",
        "\n",
        "except IndexError:\n",
        "\n",
        "    print(\"Error: List index is out of range.\")\n",
        "\n",
        "except KeyError:\n",
        "\n",
        "    print(\"Error: The specified key does not exist in the dictionary.\")\n",
        "\n",
        "except Exception as e:\n",
        "\n",
        "    print(f\"An unexpected error occurred: {e}\")\n"
      ],
      "metadata": {
        "id": "x6e1HaGRuedi"
      },
      "execution_count": null,
      "outputs": []
    },
    {
      "cell_type": "markdown",
      "source": [
        "## Q.20 How would you open a file and read its contents using a context manager in Python ?"
      ],
      "metadata": {
        "id": "r4lWau8YuvMi"
      }
    },
    {
      "cell_type": "code",
      "source": [
        "with open(\"example.txt\", \"r\") as file:\n",
        "\n",
        "    contents = file.read()\n",
        "\n",
        "    print(contents)\n"
      ],
      "metadata": {
        "id": "fTF2P0B8uzA2"
      },
      "execution_count": null,
      "outputs": []
    },
    {
      "cell_type": "markdown",
      "source": [
        "## Q.21 Write a Python program that reads a file and prints the number of occurrences of a specific word."
      ],
      "metadata": {
        "id": "AbOSZH7DvBSr"
      }
    },
    {
      "cell_type": "code",
      "source": [
        "with open(\"example.txt\" , \"w\") as file:\n",
        "\n",
        "  file.write(\"I am a good boy. Boy eats ice cream\")\n",
        "\n",
        "filename = \"example.txt\"\n",
        "\n",
        "word_to_count = \"boy\"\n",
        "\n",
        "try:\n",
        "\n",
        "    with open(filename, \"r\") as file:\n",
        "        content = file.read()\n",
        "\n",
        "\n",
        "    content = content.lower()\n",
        "    word_to_count = word_to_count.lower()\n",
        "\n",
        "\n",
        "    count = content.count(word_to_count)\n",
        "\n",
        "    print(f\"The word '{word_to_count}' occurs {count} times in '{filename}'.\")\n",
        "\n",
        "except FileNotFoundError:\n",
        "\n",
        "    print(f\"Error: The file '{filename}' was not found.\")\n",
        "\n",
        "except Exception as e:\n",
        "\n",
        "    print(f\"An unexpected error occurred: {e}\")\n"
      ],
      "metadata": {
        "colab": {
          "base_uri": "https://localhost:8080/"
        },
        "id": "g4irzVHxvFcs",
        "outputId": "c6ea3f87-adf9-4b65-d880-465cc07606ba"
      },
      "execution_count": 8,
      "outputs": [
        {
          "output_type": "stream",
          "name": "stdout",
          "text": [
            "The word 'boy' occurs 2 times in 'example.txt'.\n"
          ]
        }
      ]
    },
    {
      "cell_type": "markdown",
      "source": [
        "## Q.22 How can you check if a file is empty before attempting to read its contents ?"
      ],
      "metadata": {
        "id": "4t_ijAAWypVq"
      }
    },
    {
      "cell_type": "code",
      "source": [
        "import os\n",
        "\n",
        "filename = \"example.txt\"\n",
        "\n",
        "if os.path.exists(filename):\n",
        "    if os.path.getsize(filename) == 0:\n",
        "        print(\"The file is empty.\")\n",
        "    else:\n",
        "        with open(filename, \"r\") as file:\n",
        "            print(file.read())\n",
        "else:\n",
        "    print(\"File does not exist.\")\n"
      ],
      "metadata": {
        "colab": {
          "base_uri": "https://localhost:8080/"
        },
        "id": "2IXMvi7FyvJo",
        "outputId": "112b3ccf-c390-4e94-c535-a2cb603d212d"
      },
      "execution_count": 9,
      "outputs": [
        {
          "output_type": "stream",
          "name": "stdout",
          "text": [
            "I am a good boy. Boy eats ice cream\n"
          ]
        }
      ]
    },
    {
      "cell_type": "markdown",
      "source": [
        "## Q.23 Write a Python program that writes to a log file when an error occurs during file handling."
      ],
      "metadata": {
        "id": "-Q7ZDLRBy6C4"
      }
    },
    {
      "cell_type": "code",
      "source": [
        "import logging\n",
        "\n",
        "# Configure logging\n",
        "logging.basicConfig(\n",
        "    filename=\"file_errors.log\",\n",
        "    level=logging.ERROR,\n",
        "    format=\"%(asctime)s - %(levelname)s - %(message)s\"\n",
        ")\n",
        "\n",
        "filename = \"non_existing_file.txt\"\n",
        "\n",
        "try:\n",
        "    # Try to open and read a file\n",
        "    with open(filename, \"r\") as file:\n",
        "        content = file.read()\n",
        "        print(content)\n",
        "\n",
        "except FileNotFoundError as e:\n",
        "    logging.error(f\"File not found: {e}\")\n",
        "    print(\"Error: The file was not found. Check the log for details.\")\n",
        "\n",
        "except Exception as e:\n",
        "    logging.error(f\"Unexpected error: {e}\")\n",
        "    print(\"An unexpected error occurred. Check the log for details.\")\n"
      ],
      "metadata": {
        "colab": {
          "base_uri": "https://localhost:8080/"
        },
        "id": "S6S-KTNNzIoj",
        "outputId": "5e47cc93-be0d-45e5-ecc9-624e2d387afe"
      },
      "execution_count": 10,
      "outputs": [
        {
          "output_type": "stream",
          "name": "stderr",
          "text": [
            "ERROR:root:File not found: [Errno 2] No such file or directory: 'non_existing_file.txt'\n"
          ]
        },
        {
          "output_type": "stream",
          "name": "stdout",
          "text": [
            "Error: The file was not found. Check the log for details.\n"
          ]
        }
      ]
    }
  ]
}